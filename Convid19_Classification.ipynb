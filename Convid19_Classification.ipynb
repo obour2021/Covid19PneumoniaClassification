{
 "cells": [
  {
   "cell_type": "code",
   "execution_count": 1,
   "metadata": {},
   "outputs": [],
   "source": [
    "import tensorflow as tf\n",
    "from tensorflow import keras\n",
    "from tensorflow.keras.models import Sequential\n",
    "from tensorflow.keras.preprocessing.image import ImageDataGenerator\n",
    "\n",
    "from tensorflow.keras.callbacks import EarlyStopping\n",
    "from tensorflow.keras import layers\n",
    "\n",
    "import matplotlib.pyplot as plt\n",
    "import numpy as np\n",
    "from sklearn.metrics import classification_report\n",
    "from sklearn.metrics import confusion_matrix"
   ]
  },
  {
   "cell_type": "markdown",
   "metadata": {},
   "source": [
    "# Loading Image Data"
   ]
  },
  {
   "cell_type": "code",
   "execution_count": 2,
   "metadata": {},
   "outputs": [
    {
     "name": "stdout",
     "output_type": "stream",
     "text": [
      "\n",
      "Loading training data...\n",
      "Found 251 images belonging to 3 classes.\n"
     ]
    }
   ],
   "source": [
    "#Loading Image Data\n",
    "BATCH_SIZE = 1 # set a btch size\n",
    "\n",
    "print(\"\\nLoading training data...\")\n",
    "#1) Create training_data_generator, an ImageDataGenerator that normalize, rotate, set zoom range, etc.\n",
    "training_data_generator = ImageDataGenerator(\n",
    "        rescale=1./255,\n",
    "        zoom_range=0.2,\n",
    "        rotation_range=30,\n",
    "        width_shift_range=0.1,\n",
    "        height_shift_range=0.1)\n",
    "\n",
    "#2) Use training_data_generator.flow_from_directory(...) to load the training data from the 'data/train' folder:\n",
    "training_iterator = training_data_generator.flow_from_directory('data/train', class_mode='categorical',\n",
    "                    color_mode='grayscale', target_size=(256,256), batch_size=BATCH_SIZE)\n",
    "\n"
   ]
  },
  {
   "cell_type": "code",
   "execution_count": 3,
   "metadata": {},
   "outputs": [
    {
     "name": "stdout",
     "output_type": "stream",
     "text": [
      "\n",
      "Loading validation data...\n",
      "Found 66 images belonging to 3 classes.\n"
     ]
    }
   ],
   "source": [
    "print(\"\\nLoading validation data...\")\n",
    "\n",
    "#3) Create validation_data_generator, an ImageDataGenerator that just performs pixel normalization:\n",
    "\n",
    "validation_data_generator = ImageDataGenerator(rescale=1./255)\n",
    "\n",
    "#4) Use validation_data_generator.flow_from_directory(...) to load the validation data from the 'data/test' folder:\n",
    "\n",
    "validation_iterator = validation_data_generator.flow_from_directory('data/test',class_mode='categorical',\n",
    "                    color_mode='grayscale', target_size=(256,256), batch_size=BATCH_SIZE)\n"
   ]
  },
  {
   "cell_type": "markdown",
   "metadata": {},
   "source": [
    "# CNN model"
   ]
  },
  {
   "cell_type": "code",
   "execution_count": 4,
   "metadata": {},
   "outputs": [],
   "source": [
    "#initilize galaxy sequential model\n",
    "model = tf.keras.Sequential(name='Covid_19_Pneumonia_Classification')\n",
    "\n",
    "#add an input layer\n",
    "model.add(tf.keras.Input(shape=(256,256,1)))\n",
    "\n",
    "model.add(tf.keras.layers.Conv2D(2,5,strides=3,padding=\"valid\",activation=\"relu\"))\n",
    "\n",
    "#Add first max pooling layer \n",
    "model.add(tf.keras.layers.MaxPooling2D(pool_size=(5, 5), strides=(5,5)))\n",
    "\n",
    "model.add(tf.keras.layers.Conv2D(4,3,strides=1,padding=\"valid\",activation=\"relu\"))\n",
    "\n",
    "#Add second max pooling layer \n",
    "model.add(tf.keras.layers.MaxPooling2D(pool_size=(2,2), strides=(2,2)))\n",
    "\n",
    "\n",
    "model.add(tf.keras.layers.Flatten())\n",
    "\n",
    "#add a Dense output layer\n",
    "model.add(tf.keras.layers.Dense(3, activation=\"softmax\"))\n"
   ]
  },
  {
   "cell_type": "markdown",
   "metadata": {},
   "source": [
    "# Training and Compiling the Model"
   ]
  },
  {
   "cell_type": "code",
   "execution_count": 5,
   "metadata": {},
   "outputs": [
    {
     "name": "stdout",
     "output_type": "stream",
     "text": [
      "\n",
      "Compiling model...\n"
     ]
    }
   ],
   "source": [
    "print(\"\\nCompiling model...\")\n",
    "\n",
    "#3) Compile the model with an Adam optimizer, Categorical Cross Entropy Loss, and Accuracy and AUC metrics:\n",
    "\n",
    "model.compile(\n",
    "   optimizer=tf.keras.optimizers.Adam(learning_rate=0.0005),\n",
    "   loss=tf.keras.losses.CategoricalCrossentropy(),\n",
    "   metrics=[tf.keras.metrics.CategoricalAccuracy(),tf.keras.metrics.AUC()]\n",
    ")"
   ]
  },
  {
   "cell_type": "code",
   "execution_count": 6,
   "metadata": {},
   "outputs": [
    {
     "name": "stdout",
     "output_type": "stream",
     "text": [
      "\n",
      "Training model...\n",
      "Epoch 1/15\n",
      "251/251 [==============================] - 7s 26ms/step - loss: 1.1004 - categorical_accuracy: 0.2965 - auc: 0.4859 - val_loss: 1.0962 - val_categorical_accuracy: 0.4242 - val_auc: 0.5401\n",
      "Epoch 2/15\n",
      "251/251 [==============================] - 5s 21ms/step - loss: 1.0917 - categorical_accuracy: 0.4877 - auc: 0.5988 - val_loss: 1.0935 - val_categorical_accuracy: 0.4394 - val_auc: 0.5487\n",
      "Epoch 3/15\n",
      "251/251 [==============================] - 7s 29ms/step - loss: 1.0875 - categorical_accuracy: 0.4705 - auc: 0.6082 - val_loss: 1.0961 - val_categorical_accuracy: 0.4848 - val_auc: 0.5581\n",
      "Epoch 4/15\n",
      "251/251 [==============================] - 7s 26ms/step - loss: 1.0698 - categorical_accuracy: 0.6053 - auc: 0.6689 - val_loss: 1.0497 - val_categorical_accuracy: 0.5758 - val_auc: 0.6681\n",
      "Epoch 5/15\n",
      "251/251 [==============================] - 6s 25ms/step - loss: 1.0178 - categorical_accuracy: 0.5807 - auc: 0.7234 - val_loss: 0.8520 - val_categorical_accuracy: 0.6667 - val_auc: 0.8674\n",
      "Epoch 6/15\n",
      "251/251 [==============================] - 7s 27ms/step - loss: 0.8332 - categorical_accuracy: 0.6654 - auc: 0.8573 - val_loss: 0.6607 - val_categorical_accuracy: 0.7273 - val_auc: 0.9164\n",
      "Epoch 7/15\n",
      "251/251 [==============================] - 6s 23ms/step - loss: 0.6932 - categorical_accuracy: 0.7235 - auc: 0.8950 - val_loss: 0.6586 - val_categorical_accuracy: 0.6364 - val_auc: 0.8763\n",
      "Epoch 8/15\n",
      "251/251 [==============================] - 7s 26ms/step - loss: 0.5902 - categorical_accuracy: 0.7277 - auc: 0.9166 - val_loss: 0.5838 - val_categorical_accuracy: 0.6515 - val_auc: 0.9000\n",
      "Epoch 9/15\n",
      "251/251 [==============================] - 6s 26ms/step - loss: 0.6634 - categorical_accuracy: 0.7183 - auc: 0.8816 - val_loss: 0.4633 - val_categorical_accuracy: 0.7879 - val_auc: 0.9481\n",
      "Epoch 10/15\n",
      "251/251 [==============================] - 6s 24ms/step - loss: 0.5319 - categorical_accuracy: 0.7891 - auc: 0.9251 - val_loss: 0.4166 - val_categorical_accuracy: 0.8333 - val_auc: 0.9676\n",
      "Epoch 11/15\n",
      "251/251 [==============================] - 7s 28ms/step - loss: 0.5474 - categorical_accuracy: 0.7936 - auc: 0.9232 - val_loss: 0.4024 - val_categorical_accuracy: 0.8636 - val_auc: 0.9732\n",
      "Epoch 12/15\n",
      "251/251 [==============================] - 7s 28ms/step - loss: 0.5735 - categorical_accuracy: 0.7351 - auc: 0.9056 - val_loss: 0.4282 - val_categorical_accuracy: 0.8182 - val_auc: 0.9594\n",
      "Epoch 13/15\n",
      "251/251 [==============================] - 7s 26ms/step - loss: 0.5768 - categorical_accuracy: 0.7373 - auc: 0.9089 - val_loss: 0.4003 - val_categorical_accuracy: 0.8485 - val_auc: 0.9668\n",
      "Epoch 14/15\n",
      "251/251 [==============================] - 7s 26ms/step - loss: 0.4977 - categorical_accuracy: 0.8083 - auc: 0.9368 - val_loss: 0.5199 - val_categorical_accuracy: 0.7273 - val_auc: 0.9132\n",
      "Epoch 15/15\n",
      "251/251 [==============================] - 6s 25ms/step - loss: 0.4946 - categorical_accuracy: 0.8232 - auc: 0.9355 - val_loss: 0.3628 - val_categorical_accuracy: 0.8485 - val_auc: 0.9751\n",
      "Model: \"Covid_19_Pneumonia_Classification\"\n",
      "_________________________________________________________________\n",
      "Layer (type)                 Output Shape              Param #   \n",
      "=================================================================\n",
      "conv2d (Conv2D)              (None, 84, 84, 2)         52        \n",
      "_________________________________________________________________\n",
      "max_pooling2d (MaxPooling2D) (None, 16, 16, 2)         0         \n",
      "_________________________________________________________________\n",
      "conv2d_1 (Conv2D)            (None, 14, 14, 4)         76        \n",
      "_________________________________________________________________\n",
      "max_pooling2d_1 (MaxPooling2 (None, 7, 7, 4)           0         \n",
      "_________________________________________________________________\n",
      "flatten (Flatten)            (None, 196)               0         \n",
      "_________________________________________________________________\n",
      "dense (Dense)                (None, 3)                 591       \n",
      "=================================================================\n",
      "Total params: 719\n",
      "Trainable params: 719\n",
      "Non-trainable params: 0\n",
      "_________________________________________________________________\n",
      "None\n",
      "              precision    recall  f1-score   support\n",
      "\n",
      "       Covid       0.38      0.35      0.36        26\n",
      "      Normal       0.24      0.25      0.24        20\n",
      "   Pneumonia       0.24      0.25      0.24        20\n",
      "\n",
      "    accuracy                           0.29        66\n",
      "   macro avg       0.28      0.28      0.28        66\n",
      "weighted avg       0.29      0.29      0.29        66\n",
      "\n",
      "[[ 9 10  7]\n",
      " [ 6  5  9]\n",
      " [ 9  6  5]]\n"
     ]
    }
   ],
   "source": [
    "print(\"\\nTraining model...\")\n",
    "\n",
    "# epochs and early stopping\n",
    "stop = EarlyStopping(monitor='val_loss', mode='min', verbose=1, patience=40) \n",
    "#4) Use model.fit(...) to train and validate our model for 5 epochs:\n",
    "\n",
    "history = model.fit(\n",
    "       training_iterator,\n",
    "       steps_per_epoch=training_iterator.samples/BATCH_SIZE,\n",
    "       epochs=15,\n",
    "       validation_data=validation_iterator,\n",
    "       validation_steps=validation_iterator.samples/BATCH_SIZE,\n",
    "       callbacks=[stop])\n",
    "\n",
    "#Print model information:\n",
    "print(model.summary()) \n",
    "\n",
    "#classification report and confusion matrix\n",
    "test_steps_per_epoch = np.math.ceil(validation_iterator.samples / validation_iterator.batch_size)\n",
    "\n",
    "predictions = model.predict(validation_iterator, steps=test_steps_per_epoch)\n",
    "\n",
    "test_steps_per_epoch = np.math.ceil(validation_iterator.samples / validation_iterator.batch_size)\n",
    "predicted_classes = np.argmax(predictions, axis=1)\n",
    "\n",
    "true_classes = validation_iterator.classes\n",
    "class_labels = list(validation_iterator.class_indices.keys())\n",
    "\n",
    "report = classification_report(true_classes, predicted_classes, target_names=class_labels)\n",
    "print(report)   \n",
    " \n",
    "cm=confusion_matrix(true_classes,predicted_classes)\n",
    "print(cm)"
   ]
  },
  {
   "cell_type": "markdown",
   "metadata": {},
   "source": [
    "# Model Accuracy"
   ]
  },
  {
   "cell_type": "code",
   "execution_count": 9,
   "metadata": {},
   "outputs": [
    {
     "name": "stdout",
     "output_type": "stream",
     "text": [
      "66/66 [==============================] - 1s 7ms/step - loss: 0.3628 - categorical_accuracy: 0.8485 - auc: 0.9751\n",
      "accuracy of the model is:  84.84848737716675 %\n"
     ]
    }
   ],
   "source": [
    "print('accuracy of the model is: ',model.evaluate(validation_iterator)[1]*100, '%')"
   ]
  },
  {
   "cell_type": "markdown",
   "metadata": {},
   "source": [
    "# Performance Plots"
   ]
  },
  {
   "cell_type": "code",
   "execution_count": 10,
   "metadata": {},
   "outputs": [
    {
     "data": {
      "image/png": "[encoded data removed]",
      "text/plain": [
       "<Figure size 720x432 with 2 Axes>"
      ]
     },
     "metadata": {
      "needs_background": "light"
     },
     "output_type": "display_data"
    }
   ],
   "source": [
    "# plotting categorical and validation accuracy over epochs\n",
    "fig = plt.figure(figsize=(10,6))\n",
    "ax1 = fig.add_subplot(2, 1, 1)\n",
    "ax1.plot(history.history['categorical_accuracy'])\n",
    "ax1.plot(history.history['val_categorical_accuracy'])\n",
    "ax1.set_title('model accuracy')\n",
    "ax1.set_xlabel('epoch')\n",
    "ax1.set_ylabel('accuracy')\n",
    "ax1.legend(['train', 'validation'], loc='upper left')\n",
    " \n",
    "# plotting auc and validation auc over epochs\n",
    "ax2 = fig.add_subplot(2, 1, 2)\n",
    "ax2.plot(history.history['auc'])\n",
    "ax2.plot(history.history['val_auc'])\n",
    "ax2.set_title('model auc')\n",
    "ax2.set_xlabel('epoch')\n",
    "ax2.set_ylabel('auc')\n",
    "ax2.legend(['train', 'validation'], loc='upper left')\n",
    " \n",
    "# used to keep plots from overlapping\n",
    "fig.tight_layout()\n",
    "plt.show()\n",
    "\n",
    "# use this savefig call at the end of your graph instead of using plt.show()\n",
    "fig.savefig('my_plots.png')"
   ]
  },
  {
   "cell_type": "code",
   "execution_count": null,
   "metadata": {},
   "outputs": [],
   "source": []
  },
  {
   "cell_type": "code",
   "execution_count": null,
   "metadata": {},
   "outputs": [],
   "source": []
  }
 ],
 "metadata": {
  "kernelspec": {
   "display_name": "Python 3",
   "language": "python",
   "name": "python3"
  },
  "language_info": {
   "codemirror_mode": {
    "name": "ipython",
    "version": 3
   },
   "file_extension": ".py",
   "mimetype": "text/x-python",
   "name": "python",
   "nbconvert_exporter": "python",
   "pygments_lexer": "ipython3",
   "version": "3.7.3"
  }
 },
 "nbformat": 4,
 "nbformat_minor": 2
}
